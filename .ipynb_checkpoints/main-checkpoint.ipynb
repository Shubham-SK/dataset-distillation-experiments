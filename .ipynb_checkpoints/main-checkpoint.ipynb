{
 "cells": [
  {
   "cell_type": "markdown",
   "metadata": {},
   "source": [
    "# Data Condensation Experiments"
   ]
  },
  {
   "cell_type": "markdown",
   "metadata": {},
   "source": [
    "## Loading Dataset"
   ]
  },
  {
   "cell_type": "code",
   "execution_count": 22,
   "metadata": {},
   "outputs": [],
   "source": [
    "import torch\n",
    "import torchvision\n",
    "import torchvision.transforms as transforms\n",
    "import torch.nn as nn\n",
    "import torch.nn.functional as F"
   ]
  },
  {
   "cell_type": "code",
   "execution_count": 23,
   "metadata": {},
   "outputs": [],
   "source": [
    "import numpy as np\n",
    "import matplotlib.pyplot as plt"
   ]
  },
  {
   "cell_type": "code",
   "execution_count": 126,
   "metadata": {},
   "outputs": [],
   "source": [
    "mean = [0.4914, 0.4822, 0.4465]\n",
    "std = [0.2023, 0.1994, 0.2010]\n",
    "\n",
    "transform = transforms.Compose([\n",
    "    transforms.ToTensor(),\n",
    "    transforms.Normalize(mean=mean, std=std)\n",
    "])"
   ]
  },
  {
   "cell_type": "code",
   "execution_count": 127,
   "metadata": {},
   "outputs": [
    {
     "name": "stdout",
     "output_type": "stream",
     "text": [
      "Files already downloaded and verified\n",
      "Files already downloaded and verified\n"
     ]
    }
   ],
   "source": [
    "trainset = torchvision.datasets.CIFAR10(\n",
    "    root='./data', \n",
    "    train=True,\n",
    "    download=True, \n",
    "    transform=transform\n",
    ")\n",
    "\n",
    "testset = torchvision.datasets.CIFAR10(\n",
    "    root='./data', \n",
    "    train=False,\n",
    "    download=True, \n",
    "    transform=transform\n",
    ")\n",
    "\n",
    "classes_names = trainset.classes\n",
    "num_classes = 10\n",
    "im_size = (32, 32)\n",
    "channel = 3"
   ]
  },
  {
   "cell_type": "code",
   "execution_count": 166,
   "metadata": {},
   "outputs": [
    {
     "data": {
      "text/plain": [
       "torch.Size([3, 32, 32])"
      ]
     },
     "execution_count": 166,
     "metadata": {},
     "output_type": "execute_result"
    }
   ],
   "source": [
    "sample_image, sample_label = trainset[3][0], trainset[3][1]\n",
    "sample_image.shape"
   ]
  },
  {
   "cell_type": "code",
   "execution_count": 152,
   "metadata": {},
   "outputs": [],
   "source": [
    "def imshow(img, mean, std):\n",
    "    mean = torch.Tensor(mean)[:, None, None]\n",
    "    std = torch.Tensor(std)[:, None, None]\n",
    "    \n",
    "    print(img.permute(2, 1, 0).shape)\n",
    "    \n",
    "    img = std * img + mean\n",
    "    npimg = img.numpy()\n",
    "    \n",
    "    plt.imshow(npimg.transpose(1, 2, 0))\n",
    "    plt.show()"
   ]
  },
  {
   "cell_type": "code",
   "execution_count": 153,
   "metadata": {},
   "outputs": [
    {
     "name": "stdout",
     "output_type": "stream",
     "text": [
      "torch.Size([32, 32, 3])\n"
     ]
    },
    {
     "data": {
      "image/png": "[encoded data removed]",
      "text/plain": [
       "<Figure size 432x288 with 1 Axes>"
      ]
     },
     "metadata": {
      "needs_background": "light"
     },
     "output_type": "display_data"
    },
    {
     "name": "stdout",
     "output_type": "stream",
     "text": [
      "deer\n"
     ]
    }
   ],
   "source": [
    "imshow(sample_image, mean, std)\n",
    "print(classes[sample_label])"
   ]
  },
  {
   "cell_type": "code",
   "execution_count": 164,
   "metadata": {},
   "outputs": [
    {
     "name": "stdout",
     "output_type": "stream",
     "text": [
      "<class 'torchvision.datasets.cifar.CIFAR10'>\n",
      "<class 'torch.Tensor'>\n",
      "<class 'int'>\n",
      "torch.Size([1, 3, 32, 32])\n"
     ]
    }
   ],
   "source": [
    "print(type(trainset))\n",
    "print(type(trainset[0][0]))\n",
    "print(type(trainset[0][1]))\n",
    "\n",
    "k = trainset[0][0].unsqueeze(dim=0)\n",
    "k_p = [trainset[0][0]]\n",
    "print(k.shape)"
   ]
  },
  {
   "cell_type": "markdown",
   "metadata": {},
   "source": [
    "## Coreset Methods"
   ]
  },
  {
   "cell_type": "markdown",
   "metadata": {},
   "source": [
    "### Random Subset"
   ]
  },
  {
   "cell_type": "code",
   "execution_count": 15,
   "metadata": {},
   "outputs": [],
   "source": [
    "# random subset implementation"
   ]
  },
  {
   "cell_type": "markdown",
   "metadata": {},
   "source": [
    "### K-Center"
   ]
  },
  {
   "cell_type": "code",
   "execution_count": 16,
   "metadata": {},
   "outputs": [],
   "source": [
    "# k-center implementation"
   ]
  },
  {
   "cell_type": "markdown",
   "metadata": {},
   "source": [
    "## Gradient Matching\n",
    "\n",
    "### $$\\min_{S} \\mathbb{E}_{\\theta_0 \\sim P_{\\theta_0}} \\left[\\sum_{t=0}^{T-1} D\\left(\\nabla_{\\theta} \\mathcal{L}^S\\left(\\theta_t\\right), \\nabla_{\\theta} \\mathcal{L}^\\mathcal{T}\\left(\\theta_t\\right)\\right)\\right] $$"
   ]
  },
  {
   "cell_type": "code",
   "execution_count": 165,
   "metadata": {},
   "outputs": [
    {
     "name": "stdout",
     "output_type": "stream",
     "text": [
      "<class 'torch.Tensor'>\n",
      "torch.Size([50000, 3, 32, 32])\n",
      "<class 'torch.Tensor'>\n",
      "torch.Size([50000])\n"
     ]
    }
   ],
   "source": [
    "# dataset organization\n",
    "images_all = [torch.unsqueeze(trainset[i][0], dim=0) for i in range(len(trainset))]\n",
    "labels_all = [trainset[i][1] for i in range(len(trainset))]\n",
    "\n",
    "indices_class = [[] for c in range(num_classes)]\n",
    "\n",
    "for i, label in enumerate(labels_all):\n",
    "    indices_class[label] = i\n",
    "\n",
    "# these need to be sent to cuda if available\n",
    "images_all = torch.cat(images_all, dim=0)\n",
    "labels_all = torch.tensor(labels_all, dtype=torch.long)\n",
    "\n",
    "print(type(images_all))\n",
    "print(images_all.shape)\n",
    "print(type(labels_all))\n",
    "print(labels_all.shape)\n",
    "\n",
    "def get_images(c, n): # randomly select n images from a class\n",
    "    idx_shuffle = np.random.permutation(indices[c])[:n]\n",
    "    return images_all[idx_shuffle]"
   ]
  },
  {
   "cell_type": "code",
   "execution_count": 20,
   "metadata": {},
   "outputs": [],
   "source": [
    "# synthetic dataset initialization (random noise)\n",
    "ipc = 10 # images per class\n",
    "\n",
    "# these need to be sent to cuda if available\n",
    "image_syn = torch.randn(size=(num_classes*ipc, channel, im_size[0], im_size[1]), dtype=torch.float, requires_grad=True)\n",
    "label_syn = torch.tensor([np.ones(ipc)*i for i in range(num_classes)], dtype=torch.long, requires_grad=False).view(-1)"
   ]
  },
  {
   "cell_type": "code",
   "execution_count": null,
   "metadata": {},
   "outputs": [],
   "source": [
    "# Network not my code; Taken from:\n",
    "# https://github.com/VICO-UoE/DatasetCondensation\n",
    "\n",
    "# customizable conv net\n",
    "class ConvNet(nn.Module):\n",
    "    def __init__(self, channel, num_classes, net_width, net_depth, net_act, net_norm, net_pooling, im_size=(32,32)):\n",
    "        super(ConvNet, self).__init__()\n",
    "        \n",
    "        self.features, shape_feat = self._make_layers(channel, net_width, net_depth, net_act, net_norm, net_pooling, im_size)\n",
    "        num_feat = shape_feat[0]*shape_feat[1]*shape_feat[2]\n",
    "        self.classifier = nn.Linear(num_feat, num_classes)\n",
    "        \n",
    "    def forward(self, x):\n",
    "        out = self.features(x)\n",
    "        out = out.view(out.size(0), -1)\n",
    "        out = self.classifier(out)\n",
    "        return out\n",
    "    \n",
    "    def embed(self, x):\n",
    "        out = self.features(x)\n",
    "        out = out.view(out.size(0), -1)\n",
    "        return out\n",
    "    \n",
    "    def _get_activation(self, net_act):\n",
    "        if net_act == 'sigmoid':\n",
    "            return nn.Sigmoid\n",
    "        elif net_act == 'relu':\n",
    "            return nn.ReLU(inplace=True)\n",
    "        elif net_act == 'leakyrelu':\n",
    "            return nn.LeakyReLU(negaitve_slope=0.01)\n",
    "        else:\n",
    "            exit('unknown activation function: %s'%net_act)\n",
    "        \n",
    "    def _get_pooling(self, net_pooling):\n",
    "        if net_pooling == 'maxpooling':\n",
    "            return nn.MaxPool2d(kernel_size=2, stride=2)\n",
    "        elif net_pooling == 'avgpooling':\n",
    "            return nn.AvgPool2d(kernel_size=2, stride=2)\n",
    "        else:\n",
    "            exit('unknown net_pooling: %s'%net_pooling)\n",
    "\n",
    "    def _make_layers(self, channel, net_width, net_depth, net_act, net_norm, net_pooling, im_size):\n",
    "        layers = []\n",
    "        in_channels = channel\n",
    "        shape_feat = [in_channels, im_size[0], im_size[1]]\n",
    "        \n",
    "        for d i in range(net_depth):\n",
    "            layers += [nn.Conv2D[in_channels, net_width, kernel_size=3, padding=1]]\n",
    "            shape_feat[0] = net_width\n",
    "            if net_norm != 'none':\n",
    "                layers += [self._get_normlayer(net_norm, shape_feat)]\n",
    "            layers += [self._get_activation(net_act)]\n",
    "            in_channels = net_width\n",
    "            if net_pooling != 'none':\n",
    "                layers += [self._get_pooling(net_pooling)]\n",
    "                shape_feat[1] //= 2\n",
    "                shape_feat[2] //= 2\n",
    "                \n",
    "        return nn.Sequential(*layers), shape_feat"
   ]
  },
  {
   "cell_type": "code",
   "execution_count": 70,
   "metadata": {},
   "outputs": [],
   "source": [
    "# Network not my code; Taken from:\n",
    "# https://github.com/VICO-UoE/DatasetCondensation\n",
    "\n",
    "# mlp\n",
    "class MLP(nn.Module):\n",
    "    def __init__(self, channel, num_classes):\n",
    "        super(MLP, self).__init__()\n",
    "        self.fc_1 = nn.Linear(32*32*3, 128)\n",
    "        self.fc_2 = nn.Linear(128, 128)\n",
    "        self.fc_3 = nn.Linear(128, num_classes)\n",
    "        \n",
    "    def forward(self, x):\n",
    "        out = x.view(x.size(0), -1)\n",
    "        out = F.relu(self.fc_1(out))\n",
    "        out = F.relu(self.fc_2(out))\n",
    "        out - self.fc_3(out)\n",
    "        return out"
   ]
  },
  {
   "cell_type": "code",
   "execution_count": 19,
   "metadata": {},
   "outputs": [],
   "source": [
    "# training\n",
    "optimizer_img = torch.optim.SGD([image_syn, ], lr=1.0, momentum=0.5)\n",
    "optimizer_img.zero_grad()\n",
    "\n",
    "# usually random network is selected for training, for this exercise i'll just use the conv net defined above\n",
    "# can import random models from networks.py later\n"
   ]
  },
  {
   "cell_type": "markdown",
   "metadata": {},
   "source": [
    "# Current SoTA"
   ]
  },
  {
   "cell_type": "code",
   "execution_count": 18,
   "metadata": {},
   "outputs": [],
   "source": [
    "# current SoTA implementation"
   ]
  }
 ],
 "metadata": {
  "kernelspec": {
   "display_name": "Python 3",
   "language": "python",
   "name": "python3"
  },
  "language_info": {
   "codemirror_mode": {
    "name": "ipython",
    "version": 3
   },
   "file_extension": ".py",
   "mimetype": "text/x-python",
   "name": "python",
   "nbconvert_exporter": "python",
   "pygments_lexer": "ipython3",
   "version": "3.8.5"
  }
 },
 "nbformat": 4,
 "nbformat_minor": 4
}
