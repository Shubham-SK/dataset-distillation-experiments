{
 "cells": [
  {
   "cell_type": "markdown",
   "metadata": {},
   "source": [
    "# Data Condensation Experiments"
   ]
  },
  {
   "cell_type": "markdown",
   "metadata": {},
   "source": [
    "## Loading Dataset"
   ]
  },
  {
   "cell_type": "code",
   "execution_count": 202,
   "metadata": {},
   "outputs": [],
   "source": [
    "import torch\n",
    "import torchvision\n",
    "import torchvision.transforms as transforms\n",
    "import torch.nn as nn\n",
    "import torch.nn.functional as F\n",
    "from torch.utils.data import Dataset"
   ]
  },
  {
   "cell_type": "code",
   "execution_count": 23,
   "metadata": {},
   "outputs": [],
   "source": [
    "import numpy as np\n",
    "import matplotlib.pyplot as plt"
   ]
  },
  {
   "cell_type": "code",
   "execution_count": 167,
   "metadata": {},
   "outputs": [],
   "source": [
    "from jupyterthemes import jtplot\n",
    "jtplot.style()"
   ]
  },
  {
   "cell_type": "code",
   "execution_count": 211,
   "metadata": {},
   "outputs": [],
   "source": [
    "import time\n",
    "import copy\n",
    "from tqdm import tqdm"
   ]
  },
  {
   "cell_type": "code",
   "execution_count": 126,
   "metadata": {},
   "outputs": [],
   "source": [
    "mean = [0.4914, 0.4822, 0.4465]\n",
    "std = [0.2023, 0.1994, 0.2010]\n",
    "\n",
    "transform = transforms.Compose([\n",
    "    transforms.ToTensor(),\n",
    "    transforms.Normalize(mean=mean, std=std)\n",
    "])"
   ]
  },
  {
   "cell_type": "code",
   "execution_count": 127,
   "metadata": {},
   "outputs": [
    {
     "name": "stdout",
     "output_type": "stream",
     "text": [
      "Files already downloaded and verified\n",
      "Files already downloaded and verified\n"
     ]
    }
   ],
   "source": [
    "trainset = torchvision.datasets.CIFAR10(\n",
    "    root='./data', \n",
    "    train=True,\n",
    "    download=True, \n",
    "    transform=transform\n",
    ")\n",
    "\n",
    "testset = torchvision.datasets.CIFAR10(\n",
    "    root='./data', \n",
    "    train=False,\n",
    "    download=True, \n",
    "    transform=transform\n",
    ")\n",
    "\n",
    "classes_names = trainset.classes\n",
    "num_classes = 10\n",
    "im_size = (32, 32)\n",
    "channel = 3"
   ]
  },
  {
   "cell_type": "code",
   "execution_count": 166,
   "metadata": {},
   "outputs": [
    {
     "data": {
      "text/plain": [
       "torch.Size([3, 32, 32])"
      ]
     },
     "execution_count": 166,
     "metadata": {},
     "output_type": "execute_result"
    }
   ],
   "source": [
    "sample_image, sample_label = trainset[3][0], trainset[3][1]\n",
    "sample_image.shape"
   ]
  },
  {
   "cell_type": "code",
   "execution_count": 168,
   "metadata": {},
   "outputs": [],
   "source": [
    "def imshow(img, mean, std):\n",
    "    mean = torch.Tensor(mean)[:, None, None]\n",
    "    std = torch.Tensor(std)[:, None, None]\n",
    "    \n",
    "    print(img.permute(2, 1, 0).shape)\n",
    "    \n",
    "    img = std * img + mean\n",
    "    npimg = img.numpy()\n",
    "    \n",
    "    plt.imshow(npimg.transpose(1, 2, 0))\n",
    "    plt.show()"
   ]
  },
  {
   "cell_type": "code",
   "execution_count": 169,
   "metadata": {},
   "outputs": [
    {
     "name": "stdout",
     "output_type": "stream",
     "text": [
      "torch.Size([32, 32, 3])\n"
     ]
    },
    {
     "data": {
      "image/png": "[encoded data removed]",
      "text/plain": [
       "<Figure size 460.8x403.2 with 1 Axes>"
      ]
     },
     "metadata": {},
     "output_type": "display_data"
    },
    {
     "name": "stdout",
     "output_type": "stream",
     "text": [
      "deer\n"
     ]
    }
   ],
   "source": [
    "imshow(sample_image, mean, std)\n",
    "print(classes[sample_label])"
   ]
  },
  {
   "cell_type": "code",
   "execution_count": 164,
   "metadata": {},
   "outputs": [
    {
     "name": "stdout",
     "output_type": "stream",
     "text": [
      "<class 'torchvision.datasets.cifar.CIFAR10'>\n",
      "<class 'torch.Tensor'>\n",
      "<class 'int'>\n",
      "torch.Size([1, 3, 32, 32])\n"
     ]
    }
   ],
   "source": [
    "print(type(trainset))\n",
    "print(type(trainset[0][0]))\n",
    "print(type(trainset[0][1]))\n",
    "\n",
    "k = trainset[0][0].unsqueeze(dim=0)\n",
    "k_p = [trainset[0][0]]\n",
    "print(k.shape)"
   ]
  },
  {
   "cell_type": "markdown",
   "metadata": {},
   "source": [
    "## Coreset Methods"
   ]
  },
  {
   "cell_type": "markdown",
   "metadata": {},
   "source": [
    "### Random Subset"
   ]
  },
  {
   "cell_type": "code",
   "execution_count": 15,
   "metadata": {},
   "outputs": [],
   "source": [
    "# random subset implementation"
   ]
  },
  {
   "cell_type": "markdown",
   "metadata": {},
   "source": [
    "### K-Center"
   ]
  },
  {
   "cell_type": "code",
   "execution_count": 16,
   "metadata": {},
   "outputs": [],
   "source": [
    "# k-center implementation"
   ]
  },
  {
   "cell_type": "markdown",
   "metadata": {},
   "source": [
    "## Gradient Matching\n",
    "\n",
    "### $$\\min_{S} \\mathbb{E}_{\\theta_0 \\sim P_{\\theta_0}} \\left[\\sum_{t=0}^{T-1} D\\left(\\nabla_{\\theta} \\mathcal{L}^S\\left(\\theta_t\\right), \\nabla_{\\theta} \\mathcal{L}^\\mathcal{T}\\left(\\theta_t\\right)\\right)\\right] $$"
   ]
  },
  {
   "cell_type": "code",
   "execution_count": 172,
   "metadata": {},
   "outputs": [
    {
     "name": "stdout",
     "output_type": "stream",
     "text": [
      "<class 'torch.Tensor'>\n",
      "torch.Size([50000, 3, 32, 32])\n",
      "<class 'torch.Tensor'>\n",
      "torch.Size([50000])\n"
     ]
    }
   ],
   "source": [
    "# dataset organization\n",
    "images_all = [torch.unsqueeze(trainset[i][0], dim=0) for i in range(len(trainset))]\n",
    "labels_all = [trainset[i][1] for i in range(len(trainset))]\n",
    "\n",
    "indices_class = [[] for c in range(num_classes)]\n",
    "\n",
    "for i, label in enumerate(labels_all):\n",
    "    indices_class[label] = i\n",
    "\n",
    "# these need to be sent to cuda if available\n",
    "images_all = torch.cat(images_all, dim=0)\n",
    "labels_all = torch.tensor(labels_all, dtype=torch.long)\n",
    "\n",
    "print(type(images_all))\n",
    "print(images_all.shape)\n",
    "print(type(labels_all))\n",
    "print(labels_all.shape)\n",
    "\n",
    "def get_images(c, n): # randomly select n images from a class\n",
    "    idx_shuffle = np.random.permutation(indices[c])[:n]\n",
    "    return images_all[idx_shuffle]"
   ]
  },
  {
   "cell_type": "code",
   "execution_count": 178,
   "metadata": {},
   "outputs": [
    {
     "name": "stdout",
     "output_type": "stream",
     "text": [
      "torch.Size([100, 3, 32, 32])\n",
      "torch.Size([100])\n"
     ]
    }
   ],
   "source": [
    "# synthetic dataset initialization (random noise)\n",
    "ipc = 10 # images per class\n",
    "\n",
    "# these need to be sent to cuda if available\n",
    "image_syn = torch.randn(size=(num_classes*ipc, channel, im_size[0], im_size[1]), dtype=torch.float, requires_grad=True)\n",
    "label_syn = torch.tensor(np.array([np.ones(ipc)*i for i in range(num_classes)]), dtype=torch.long, requires_grad=False).view(-1)\n",
    "\n",
    "print(image_syn.shape)\n",
    "print(label_syn.shape)"
   ]
  },
  {
   "cell_type": "code",
   "execution_count": 187,
   "metadata": {},
   "outputs": [],
   "source": [
    "# Network not my code; Taken from:\n",
    "# https://github.com/VICO-UoE/DatasetCondensation\n",
    "\n",
    "# customizable conv net\n",
    "class ConvNet(nn.Module):\n",
    "    def __init__(self, channel, num_classes, net_width, net_depth, net_act, net_norm, net_pooling, im_size=(32,32)):\n",
    "        super(ConvNet, self).__init__()\n",
    "        \n",
    "        self.features, shape_feat = self._make_layers(channel, net_width, net_depth, net_act, net_norm, net_pooling, im_size)\n",
    "        num_feat = shape_feat[0]*shape_feat[1]*shape_feat[2]\n",
    "        self.classifier = nn.Linear(num_feat, num_classes)\n",
    "        \n",
    "    def forward(self, x):\n",
    "        out = self.features(x)\n",
    "        out = out.view(out.size(0), -1)\n",
    "        out = self.classifier(out)\n",
    "        return out\n",
    "    \n",
    "    def embed(self, x):\n",
    "        out = self.features(x)\n",
    "        out = out.view(out.size(0), -1)\n",
    "        return out\n",
    "    \n",
    "    def _get_activation(self, net_act):\n",
    "        if net_act == 'sigmoid':\n",
    "            return nn.Sigmoid\n",
    "        elif net_act == 'relu':\n",
    "            return nn.ReLU(inplace=True)\n",
    "        elif net_act == 'leakyrelu':\n",
    "            return nn.LeakyReLU(negaitve_slope=0.01)\n",
    "        else:\n",
    "            exit('unknown activation function: %s'%net_act)\n",
    "        \n",
    "    def _get_pooling(self, net_pooling):\n",
    "        if net_pooling == 'maxpooling':\n",
    "            return nn.MaxPool2d(kernel_size=2, stride=2)\n",
    "        elif net_pooling == 'avgpooling':\n",
    "            return nn.AvgPool2d(kernel_size=2, stride=2)\n",
    "        else:\n",
    "            exit('unknown net_pooling: %s'%net_pooling)\n",
    "            \n",
    "    def _get_normlayer(self, net_norm, shape_feat):\n",
    "        # shape_feat = (c*h*w)\n",
    "        if net_norm == 'batchnorm':\n",
    "            return nn.BatchNorm2d(shape_feat[0], affine=True)\n",
    "        elif net_norm == 'layernorm':\n",
    "            return nn.LayerNorm(shape_feat, elementwise_affine=True)\n",
    "        elif net_norm == 'instancenorm':\n",
    "            return nn.GroupNorm(shape_feat[0], shape_feat[0], affine=True)\n",
    "        elif net_norm == 'groupnorm':\n",
    "            return nn.GroupNorm(4, shape_feat[0], affine=True)\n",
    "        elif net_norm == 'none':\n",
    "            return None\n",
    "        else:\n",
    "            exit('unknown net_norm: %s'%net_norm)\n",
    "\n",
    "    def _make_layers(self, channel, net_width, net_depth, net_act, net_norm, net_pooling, im_size):\n",
    "        layers = []\n",
    "        in_channels = channel\n",
    "        shape_feat = [in_channels, im_size[0], im_size[1]]\n",
    "        \n",
    "        for i in range(net_depth):\n",
    "            layers += [nn.Conv2d(in_channels, net_width, kernel_size=3, padding=1)]\n",
    "            shape_feat[0] = net_width\n",
    "            if net_norm != 'none':\n",
    "                layers += [self._get_normlayer(net_norm, shape_feat)]\n",
    "            layers += [self._get_activation(net_act)]\n",
    "            in_channels = net_width\n",
    "            if net_pooling != 'none':\n",
    "                layers += [self._get_pooling(net_pooling)]\n",
    "                shape_feat[1] //= 2\n",
    "                shape_feat[2] //= 2\n",
    "                \n",
    "        return nn.Sequential(*layers), shape_feat"
   ]
  },
  {
   "cell_type": "code",
   "execution_count": 188,
   "metadata": {},
   "outputs": [],
   "source": [
    "# Network not my code; Taken from:\n",
    "# https://github.com/VICO-UoE/DatasetCondensation\n",
    "\n",
    "# mlp\n",
    "class MLP(nn.Module):\n",
    "    def __init__(self, channel, num_classes):\n",
    "        super(MLP, self).__init__()\n",
    "        self.fc_1 = nn.Linear(32*32*3, 128)\n",
    "        self.fc_2 = nn.Linear(128, 128)\n",
    "        self.fc_3 = nn.Linear(128, num_classes)\n",
    "        \n",
    "    def forward(self, x):\n",
    "        out = x.view(x.size(0), -1)\n",
    "        out = F.relu(self.fc_1(out))\n",
    "        out = F.relu(self.fc_2(out))\n",
    "        out - self.fc_3(out)\n",
    "        return out"
   ]
  },
  {
   "cell_type": "code",
   "execution_count": 207,
   "metadata": {},
   "outputs": [],
   "source": [
    "def epoch(mode, dataloader, net, optimizer, criterion):\n",
    "    loss_avg, acc_avg, num_exp = 0, 0, 0\n",
    "    # send model to cuda if available\n",
    "    # send criterion to cuda if available\n",
    "    \n",
    "    if mode == 'train':\n",
    "        model.train()\n",
    "    else:\n",
    "        model.eval()\n",
    "\n",
    "    for i_batch, datum in enumerate(dataloader):\n",
    "        # send these to cuda if available\n",
    "        img = datum[0].float()\n",
    "        lab = datum[1].long()\n",
    "\n",
    "        n_b = lab.shape[0]\n",
    "\n",
    "        output = model(img)\n",
    "        loss = criterion(output, lab)\n",
    "        acc = np.sum(np.equal(np.argmax(output.cpu().data.numpy(), axis=-1), lab.cpu().data.numpy()))\n",
    "\n",
    "        loss_avg += loss.item()*n_b\n",
    "        acc_avg += acc\n",
    "        num_exp += n_b\n",
    "        \n",
    "        if mode == 'train':\n",
    "            optimizer.zero_grad()\n",
    "            loss.backward()\n",
    "            optimizer.step()\n",
    "            \n",
    "    loss_avg /= num_exp\n",
    "    acc_avg /= num_exp\n",
    "    \n",
    "    return loss_avg, acc_avg"
   ]
  },
  {
   "cell_type": "code",
   "execution_count": 208,
   "metadata": {},
   "outputs": [],
   "source": [
    "# training\n",
    "optimizer_img = torch.optim.SGD([image_syn, ], lr=1.0, momentum=0.5)\n",
    "optimizer_img.zero_grad()\n",
    "\n",
    "# evaluation ckpts (every 2000)\n",
    "num_evals = 20\n",
    "iterations = 20000\n",
    "eval_it_pool = np.arange(0, iterations+1, 2000).tolist()\n",
    "# should have a model eval pool, but only evaluating with CNN and MLP for now just to test / learn training algorithm\n",
    "# usually networks are selected from model eval pool\n",
    "# ex: model_eval_pool = ['MLP', 'ConvNet']\n",
    "\n",
    "# can import random models from networks.py later"
   ]
  },
  {
   "cell_type": "code",
   "execution_count": 209,
   "metadata": {},
   "outputs": [],
   "source": [
    "class TensorDataset(Dataset):\n",
    "    def __init__(self, images, labels):\n",
    "        self.images = images.detach().float()\n",
    "        self.labels = labels.detach()\n",
    "        \n",
    "    def __getitem__(self, index):\n",
    "        return self.images[index], self.labels[index]\n",
    "    \n",
    "    def __len__(self):\n",
    "        return self.images.shape[0]"
   ]
  },
  {
   "cell_type": "code",
   "execution_count": 218,
   "metadata": {},
   "outputs": [
    {
     "ename": "SyntaxError",
     "evalue": "invalid syntax (<ipython-input-218-2e76b3822fdc>, line 55)",
     "output_type": "error",
     "traceback": [
      "\u001b[0;36m  File \u001b[0;32m\"<ipython-input-218-2e76b3822fdc>\"\u001b[0;36m, line \u001b[0;32m55\u001b[0m\n\u001b[0;31m    save_name = os.path.join('./synthetic_images', 'vis_%s_%s_%s_%dipc_exp%d_iter%d.png'%(, 'CIFAR10', args.model, args.ipc, exp, it))\u001b[0m\n\u001b[0m                                                                                          ^\u001b[0m\n\u001b[0;31mSyntaxError\u001b[0m\u001b[0;31m:\u001b[0m invalid syntax\n"
     ]
    }
   ],
   "source": [
    "datasave = []\n",
    "accs_conv_net = [] # ordinarily a dict with keys for each model that's evaluated\n",
    "\n",
    "for it in tqdm(range(iterations+1)):\n",
    "    if it in eval_it_pool:\n",
    "        # model iteration would go on this line\n",
    "        accs = []\n",
    "        for it_eval in range(num_evals):\n",
    "            # this needs to be sent to cuda if available\n",
    "            model = ConvNet(channel, num_classes, 128, 3, 'relu', 'instancenorm', 'avgpooling', im_size=(32,32))\n",
    "#             image_syn_eval, label_syn_eval = copy.deepcopy(image_syn.detach(), copy.deepcopy(label_syn.detach()))\n",
    "            \n",
    "            # training on the synthetic dataset to find training / testing accuracy\n",
    "            # these need to be sent to cuda if available\n",
    "            # images_train\n",
    "            # labels_train\n",
    "            \n",
    "            lr = 0.01\n",
    "            epoch_eval_train = 1000\n",
    "            lr_schedule = [epoch_eval_train // 2 + 1]\n",
    "            optimizer = torch.optim.SGD(model.parameters(), lr=lr, momentum=0.9, weight_decay=0.0005)\n",
    "            \n",
    "            # this needs to be sent to cuda if available\n",
    "            criterion = nn.CrossEntropyLoss()\n",
    "            \n",
    "            # trianloader for synthetic dataset\n",
    "            image_syn_eval, label_syn_eval = image_syn.detach().clone(), label_syn.detach().clone()\n",
    "            syn_trainset = TensorDataset(image_syn_eval, label_syn_eval)\n",
    "            syn_trainloader = torch.utils.data.DataLoader(syn_trainset, batch_size=256)\n",
    "            testloader = torch.utils.data.DataLoader(testset, batch_size=256, shuffle=False, num_workers=0)\n",
    "            \n",
    "            start = time.time()\n",
    "            print('ya')\n",
    "            for ep in tqdm(range(epoch_eval_train+1)):\n",
    "                # DONT THESE GET OVERWRITTEN EACH TIME THE FUNCTION IS CALLED?\n",
    "                loss_train, acc_train = epoch('train', syn_trainloader, model, optimizer, criterion)\n",
    "                # reduce learning rate in the middle of training\n",
    "                if ep in lr_schedule:\n",
    "                    lr *= 0.1\n",
    "                    optimizer = torch.optim.SGD(net.parameters(), lr=lr, momentum=0.9, weight_decay=0.0005)\n",
    "            \n",
    "            time_train = time.time() - start\n",
    "            loss_test, acc_test = epoch('test', testloader, net, optimizer, criterion)\n",
    "            \n",
    "            print('%s Evaluate_%02d: epoch = %04d train time = %d s train loss = %.6f train acc = %.4f, test acc = %.4f' % (get_time(), it_eval, epoch_eval_train, int(time_train), loss_train, acc_train, acc_test))\n",
    "\n",
    "            accs.append(acc_test)\n",
    "\n",
    "        print('Evaluate %d random %s, mean = %.4f std = %.4f\\n-------------------------'%(len(accs), model_eval, np.mean(accs), np.std(accs)))\n",
    "        \n",
    "        if it == iterations:\n",
    "            accs_conv_net += accs\n",
    "            \n",
    "        # save images of synthetic dataset at evaluation ckpts? would do it here\n",
    "        save_name = os.path.join('./synthetic_images', 'vis_%s_%s_%s_%dipc_exp%d_iter%d.png'%('', 'CIFAR10', 'ConvNet', '10', '0', it))"
   ]
  },
  {
   "cell_type": "code",
   "execution_count": null,
   "metadata": {},
   "outputs": [],
   "source": [
    "# training & updating synthetic data\n"
   ]
  },
  {
   "cell_type": "markdown",
   "metadata": {},
   "source": [
    "# Current SoTA"
   ]
  },
  {
   "cell_type": "code",
   "execution_count": 18,
   "metadata": {},
   "outputs": [],
   "source": [
    "# current SoTA implementation"
   ]
  }
 ],
 "metadata": {
  "kernelspec": {
   "display_name": "Python 3",
   "language": "python",
   "name": "python3"
  }
 },
 "nbformat": 4,
 "nbformat_minor": 4
}
